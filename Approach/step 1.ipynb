{
 "cells": [
  {
   "cell_type": "code",
   "execution_count": 66,
   "id": "9864962e-b266-4d9e-8770-d275aa7cfbcd",
   "metadata": {
    "tags": []
   },
   "outputs": [],
   "source": [
    "import os\n",
    "import re\n",
    "import glob\n",
    "import json\n",
    "from bertopic import BERTopic\n",
    "from sklearn.feature_extraction.text import CountVectorizer  # Import CountVectorizer"
   ]
  },
  {
   "cell_type": "code",
   "execution_count": 28,
   "id": "131a62e4-b678-4430-b923-9409341dae6a",
   "metadata": {
    "tags": []
   },
   "outputs": [],
   "source": [
    "base_directory=\"../Data/docker_files\""
   ]
  },
  {
   "cell_type": "markdown",
   "id": "da30347d-2421-4c8b-9376-8785e3d328d4",
   "metadata": {},
   "source": [
    "## Extract templates"
   ]
  },
  {
   "cell_type": "code",
   "execution_count": 29,
   "id": "e52a0de7-dfbe-42e9-ac97-41a78f2ed6dc",
   "metadata": {
    "tags": []
   },
   "outputs": [],
   "source": [
    "# Function to get all Dockerfiles\n",
    "def get_dockerfiles(base_path):\n",
    "    dockerfiles = []\n",
    "    for root, _, files in os.walk(base_path):\n",
    "        for file in files:\n",
    "            if file.startswith(\"Dockerfile\"):  # Adjust based on your naming pattern\n",
    "                dockerfiles.append(os.path.join(root, file))\n",
    "    return dockerfiles"
   ]
  },
  {
   "cell_type": "code",
   "execution_count": 60,
   "id": "0ae64450-0f4a-47d0-922f-8bf8788fa714",
   "metadata": {
    "tags": []
   },
   "outputs": [],
   "source": [
    "def custom_tokenizer(text):\n",
    "    text = re.sub(r\"([a-z])([A-Z])\", r\"\\1 \\2\", text)  # Split camelCase \n",
    "    text = re.sub(r\"([a-zA-Z])([0-9])\", r\"\\1 \\2\", text)  # Split alphanumeric \n",
    "    text = re.sub(r\"[-_/.=:\\\\]\", \" \", text)  # Split on hyphens and underscores \n",
    "    tokens = re.findall(r\"[a-zA-Z0-9]+\", text)  # Keep alphanumeric tokens\n",
    "    return tokens"
   ]
  },
  {
   "cell_type": "code",
   "execution_count": 73,
   "id": "168154d5-ac39-46fc-a51e-c39b39b0f20e",
   "metadata": {
    "tags": []
   },
   "outputs": [
    {
     "name": "stdout",
     "output_type": "stream",
     "text": [
      "['usr', 'share', 'zoneinfo', 'Asia', 'Shanghai']\n"
     ]
    }
   ],
   "source": [
    "print(custom_tokenizer(\"/usr/share/zoneinfo/Asia/Shanghai\"))"
   ]
  },
  {
   "cell_type": "code",
   "execution_count": 61,
   "id": "f6c9af22-a5fa-4490-91bb-e3e4b680fbfc",
   "metadata": {
    "tags": []
   },
   "outputs": [],
   "source": [
    "# Function to read Dockerfile contents\n",
    "def read_dockerfiles(file_paths):\n",
    "    contents = []\n",
    "    for path in file_paths:\n",
    "        with open(path, \"r\", encoding=\"utf-8\") as f:\n",
    "            contents.append(f.read())\n",
    "    return contents"
   ]
  },
  {
   "cell_type": "code",
   "execution_count": 62,
   "id": "984329e8-e4dc-4e54-8a7b-00502e8a464c",
   "metadata": {
    "tags": []
   },
   "outputs": [
    {
     "name": "stdout",
     "output_type": "stream",
     "text": [
      "Found 1807 Dockerfiles\n"
     ]
    }
   ],
   "source": [
    "# Collect Dockerfiles\n",
    "dockerfile_paths = get_dockerfiles(base_directory)\n",
    "print(f\"Found {len(dockerfile_paths)} Dockerfiles\")\n",
    "# Read their contents\n",
    "dockerfile_texts = read_dockerfiles(dockerfile_paths)"
   ]
  },
  {
   "cell_type": "code",
   "execution_count": 63,
   "id": "98fc65cd-afb9-47f6-8bd2-3543d348c7c4",
   "metadata": {
    "scrolled": true,
    "tags": []
   },
   "outputs": [
    {
     "name": "stdout",
     "output_type": "stream",
     "text": [
      "Topic -1: [('run aptget', 0.0019360824298264962), ('mkdir p', 0.0015258452530712814), ('run mkdir', 0.0014469084735200968), ('aptget install', 0.0014214354922665042), ('run apk', 0.0013306687163630274), ('install y', 0.0013263301759591144), ('from openjdk', 0.001280831079716349), ('run npm', 0.0012402657564220597), ('aptget update', 0.0012236297010962238), ('apk add', 0.0012069867227495622)]\n",
      "Topic 0: [('run go', 0.008427489021484196), ('from golang', 0.006485604752909112), ('go build', 0.005636391065929736), ('go install', 0.004376480970262609), ('go mod', 0.0036917114407994684), ('run apk', 0.003567436214856117), ('run go mod', 0.003416643924556851), ('cgoenabled 0', 0.003416643924556851), ('run cgoenabled', 0.003136997356073445), ('run cgoenabled 0', 0.003042687529289493)]\n",
      "Topic 1: [('pip install', 0.004809965508641273), ('run pip', 0.004475499993203307), ('run aptget', 0.0035936131669864423), ('install y', 0.0035581271686520506), ('aptget install', 0.0035508802584644956), ('from python', 0.0033920226600771233), ('aptget install y', 0.0032853597121968174), ('aptget update', 0.0031994183317828537), ('run pip install', 0.003103389973598235), ('update aptget', 0.003020477668705734)]\n",
      "Topic 2: [('run dotnet', 0.008549299478344685), ('c release o', 0.0066001296920119926), ('release o', 0.0066001296920119926), ('c release', 0.006550216455661938), ('60 as', 0.006299321294722746), ('workdir app', 0.005577035088698099), ('create this restoresolution section by running createdockerfilesolutionrestoreps 1', 0.004170676845144001), ('restoresolution section by', 0.004170676845144001), ('create this restoresolution section by running createdockerfilesolutionrestoreps 1 to', 0.004170676845144001), ('restoresolution section by running createdockerfilesolutionrestoreps 1 to optimize build', 0.004170676845144001)]\n",
      "Topic 3: [('run npm', 0.013647901046266505), ('npm install', 0.011197441420033207), ('run npm install', 0.010767432738980712), ('from node', 0.00909729873144457), ('cmd npm', 0.008964635143165789), ('start from', 0.007916341167539085), ('npm start from', 0.007740514280422876), ('start from node', 0.007597784899503463), ('cmd npm start from', 0.007457136010223246), ('npm start', 0.007310678540669115)]\n",
      "Topic 4: [('bincp usrsharezoneinfoasiashanghai etclocaltime echo asiashanghai', 0.028592814507088792), ('run bincp usrsharezoneinfoasiashanghai etclocaltime', 0.028592814507088792), ('asiashanghai etctimezone', 0.028592814507088792), ('bincp usrsharezoneinfoasiashanghai', 0.028592814507088792), ('bincp usrsharezoneinfoasiashanghai etclocaltime', 0.028592814507088792), ('bincp usrsharezoneinfoasiashanghai etclocaltime echo', 0.028592814507088792), ('usrsharezoneinfoasiashanghai etclocaltime echo asiashanghai etctimezone', 0.028592814507088792), ('run bincp usrsharezoneinfoasiashanghai etclocaltime echo asiashanghai etctimezone', 0.028592814507088792), ('bincp usrsharezoneinfoasiashanghai etclocaltime echo asiashanghai etctimezone', 0.028592814507088792), ('run bincp usrsharezoneinfoasiashanghai etclocaltime echo asiashanghai', 0.028592814507088792)]\n",
      "Topic 5: [('the license', 0.010172211482407835), ('password for', 0.006608417388501873), ('user in', 0.006566178819593801), ('under the', 0.005664760166034267), ('for the', 0.005200342469167795), ('permissions to', 0.004600727754492384), ('under the license', 0.004246877815702241), ('license you', 0.004246877815702241), ('the license you may', 0.004246877815702241), ('license you may', 0.004246877815702241)]\n",
      "Topic 6: [('run dotnet', 0.015642469260112465), ('workdir app', 0.013345282437144895), ('c release', 0.013313939371341224), ('dotnet publish', 0.011863805744540235), ('publish c', 0.011602587150590574), ('publish c release', 0.011602587150590574), ('dotnet publish c', 0.011602587150590574), ('dotnet publish c release', 0.011602587150590574), ('c release o', 0.0114589813349656), ('release o', 0.0114589813349656)]\n",
      "Topic 7: [('from openjdk', 0.02082132435123314), ('volume tmp', 0.012736224970945963), ('from openjdk 8jre', 0.009538722162289985), ('openjdk 8jre', 0.00923780955544786), ('8jre volume', 0.008810224455530471), ('from openjdk 8jre volume', 0.008810224455530471), ('workdir usrsrc entrypoint', 0.008810224455530471), ('openjdk 11 add', 0.008810224455530471), ('from openjdk 11 add', 0.008810224455530471), ('from openjdk 11', 0.008810224455530471)]\n",
      "Topic 8: [('chmod x', 0.006718406855828827), ('apk add', 0.003971854241952276), ('from php', 0.0035163712449473496), ('pecl install', 0.003128499800368959), ('run composer', 0.002813881628744074), ('composer install', 0.002558074207949158), ('run set', 0.0023657589110359987), ('run composer install', 0.0023502018553698233), ('mkdir p', 0.0022585488883445927), ('chown rf', 0.0022011585721351933)]\n",
      "Topic 9: [('run dotnet', 0.011999363437458246), ('c release o', 0.008409466793507705), ('release o', 0.008409466793507705), ('c release', 0.008345870512339126), ('workdir app', 0.008051024821080357), ('expose 80', 0.006261672290042643), ('as build workdir src copy', 0.006259544012632592), ('build workdir src copy', 0.006259544012632592), ('workdir app expose 80', 0.00613041114544987), ('app expose 80', 0.00613041114544987)]\n",
      "Topic 10: [('cmd node', 0.017086518915090377), ('run nest build', 0.015938340566109405), ('run nest', 0.015938340566109405), ('nest build', 0.015938340566109405), ('run yarn', 0.013427304154618208), ('node bus', 0.012832007476129354), ('node bus amqprabbitmq', 0.012832007476129354), ('cmd node bus amqprabbitmq 5672codefarm', 0.012832007476129354), ('cmd node bus amqprabbitmq', 0.012832007476129354), ('cmd node bus', 0.012832007476129354)]\n",
      "Topic 11: [('dockerentrypointsh expose', 0.00348616597060748), ('builddate arg name arg vcsref arg version', 0.0033335011328698644), ('orglabelschemanamename orglabelschemavcsrefvcsref orglabelschemavcsurlhttpsgithubcombarcusbareos orglabelschemaversionversion', 0.0033335011328698644), ('orglabelschemaschemaversion 10 orglabelschemabuilddatebuilddate orglabelschemanamename', 0.0033335011328698644), ('label orglabelschemaschemaversion 10 orglabelschemabuilddatebuilddate orglabelschemanamename orglabelschemavcsrefvcsref orglabelschemavcsurlhttpsgithubcombarcusbareos orglabelschemaversionversion', 0.0033335011328698644), ('orglabelschemavcsrefvcsref orglabelschemavcsurlhttpsgithubcombarcusbareos', 0.0033335011328698644), ('orglabelschemavcsrefvcsref orglabelschemavcsurlhttpsgithubcombarcusbareos orglabelschemaversionversion', 0.0033335011328698644), ('arg builddate arg name arg vcsref arg version', 0.0033335011328698644), ('orglabelschemavcsurlhttpsgithubcombarcusbareos orglabelschemaversionversion', 0.0033335011328698644), ('arg builddate arg name arg vcsref arg', 0.0033335011328698644)]\n",
      "Topic 12: [('from mongo', 0.005757075940861726), ('chmod x', 0.004708818437746288), ('run chmod', 0.004680586737375458), ('from postgres', 0.004548941848325833), ('aptget update', 0.003821870241101579), ('run chmod x', 0.0034877036074227505), ('dbhost env', 0.0031363815000913235), ('add mongodbscriptsinitreplicasetjs initreplicasetjs', 0.0031363815000913235), ('add mongodbscriptsinitreplicasetjs', 0.0031363815000913235), ('postgresqlpassword env', 0.0031363815000913235)]\n",
      "Topic 13: [('run npm', 0.02186634524483068), ('cmd npm', 0.014913080200507632), ('npm install', 0.012492856070180027), ('npm run', 0.012466737839157293), ('run npm install', 0.012428815447452772), ('copy packagejson', 0.012146861613278543), ('from node', 0.011979504777342363), ('start from', 0.010553092506054284), ('cmd npm start', 0.009906532529684835), ('npm start', 0.00977354242551183)]\n",
      "Topic 14: [('git bare init', 0.007660926280447889), ('bare init', 0.007660926280447889), ('git bare', 0.007660926280447889), ('run npm', 0.006474104882446538), ('build from', 0.004959089445370042), ('nginx g', 0.004056707097205697), ('nginx g daemon', 0.004056707097205697), ('npm run', 0.003967937484048963), ('usrsharenginxhtml copy', 0.003951727538064198), ('g daemon', 0.0039516113085566)]\n",
      "Topic 15: [('run yarn', 0.014111342127172851), ('from node', 0.0054297830381857945), ('yarn cache clean', 0.0041703422531371385), ('yarn cache', 0.0041703422531371385), ('cache clean', 0.003853528354835864), ('run tar', 0.0037534105045796675), ('publicecrawsdockerlibrarynode 20bookwormslim', 0.003742768384449699), ('from publicecrawsdockerlibrarynode', 0.003742768384449699), ('from publicecrawsdockerlibrarynode 20bookwormslim', 0.003742768384449699), ('cmd yarn', 0.003617155852803299)]\n",
      "Topic 16: [('from mcrmicrosoftcomdotnetaspnet workdir app copy', 0.03238113927195906), ('mcrmicrosoftcomdotnetaspnet workdir app', 0.03238113927195906), ('mcrmicrosoftcomdotnetaspnet workdir app copy', 0.03238113927195906), ('from mcrmicrosoftcomdotnetaspnet workdir', 0.03238113927195906), ('from mcrmicrosoftcomdotnetaspnet workdir app', 0.03238113927195906), ('mcrmicrosoftcomdotnetaspnet workdir', 0.03238113927195906), ('expose 80 entrypoint dotnet', 0.030580082967352783), ('80 entrypoint dotnet', 0.030580082967352783), ('expose 80 entrypoint', 0.02906763279722594), ('80 entrypoint', 0.02906763279722594)]\n",
      "Topic 17: [('from nginx', 0.02376062899856955), ('copy nginxconf', 0.02068940709606342), ('nginxconf etcnginxnginxconf', 0.01888061702460011), ('copy nginxconf etcnginxnginxconf', 0.01888061702460011), ('etcnginxnginxconf from', 0.014550869432469717), ('from nginx copy', 0.011477291282060355), ('nginx copy', 0.01126280696455453), ('from nginx copy nginxconf', 0.009775819581704271), ('etcnginxnginxconf from nginx', 0.009775819581704271), ('nginx copy nginxconf', 0.009564409401716963)]\n",
      "Topic 18: [('run aptget', 0.004592343514268687), ('aptget install', 0.004386476542760326), ('cargo build', 0.004307424964750705), ('run cargo', 0.004273281769428544), ('aptget update', 0.004250728707897742), ('aptget install y', 0.003879919937161739), ('install y', 0.0038465743175520044), ('cargo build release', 0.0037979025762442976), ('build release', 0.0037979025762442976), ('run aptget update', 0.00358237246664633)]\n",
      "Topic 19: [('pecl install', 0.005940239884526964), ('nextcloudtarbz 2', 0.005867743165641865), ('run set ex', 0.005304396916553481), ('set ex', 0.00526470422510557), ('run set', 0.004784363152474249), ('nextcloudtarbz 2asc', 0.004596641881606349), ('sort u', 0.004211102268235818), ('rm rf', 0.0038480824339142006), ('mkdir p', 0.0035898541334745088), ('sort u xargs', 0.0035562991117825573)]\n",
      "Topic 20: [('11alpine copy', 0.07911268447333664), ('from adoptopenjdkopenjdk 11alpine', 0.07911268447333664), ('adoptopenjdkopenjdk 11alpine copy', 0.07911268447333664), ('adoptopenjdkopenjdk 11alpine', 0.07911268447333664), ('from adoptopenjdkopenjdk 11alpine copy', 0.07911268447333664), ('from adoptopenjdkopenjdk', 0.07195216728281938), ('cmd java jar', 0.0667449269855264), ('cmd java', 0.06294762999712757), ('java jar', 0.06087189878936425), ('apigatewayjar from adoptopenjdkopenjdk 11alpine', 0.01336240637094804)]\n",
      "Topic 21: [('arg upstreamrepo', 0.007019817590160828), ('arg upstreamrepo arg', 0.007019817590160828), ('upstreamrepo arg upstreamtag', 0.007019817590160828), ('upstreamrepo arg', 0.007019817590160828), ('arg upstreamrepo arg upstreamtag', 0.007019817590160828), ('arg upstreamtag', 0.007019817590160828), ('arg upstreamtag from', 0.0058950261410011424), ('upstreamtag from', 0.0058950261410011424), ('upstreamrepo arg upstreamtag from', 0.0058950261410011424), ('arg upstreamrepo arg upstreamtag from', 0.0058950261410011424)]\n",
      "Topic 22: [('run apk', 0.014172297076833386), ('apk add', 0.012828515884339557), ('run apk add', 0.00970648081360468), ('from alpine', 0.007419783314456882), ('apk add nocache', 0.006574582285035096), ('add nocache', 0.006566313929504384), ('225r 0apk', 0.006529242902739798), ('apk add update', 0.0057177157387044404), ('add update', 0.005679302144825053), ('run apk add nocache', 0.005659022841704391)]\n",
      "Topic 23: [('aptget install', 0.005217969148340781), ('install y', 0.004503621710166924), ('aptget install y', 0.003886951413113351), ('run chmod', 0.0033688491076176567), ('run chmod x', 0.0032540566715924053), ('chmod x', 0.0032008816960854497), ('chmod ugx', 0.0031831506278358034), ('claus stadler cstadlerinformatikunileipzigde', 0.003146918619821944), ('maintainer claus stadler', 0.003146918619821944), ('claus stadler', 0.003146918619821944)]\n",
      "Topic 24: [('20 which', 0.006363254668189286), ('materials are made available under the terms of', 0.006125299251444473), ('available under the terms', 0.006125299251444473), ('materials are made available under the terms of the', 0.006125299251444473), ('and the accompanying materials are made available under the terms', 0.006125299251444473), ('are made available under the terms of the', 0.006125299251444473), ('are made available under the terms of', 0.006125299251444473), ('are made available under the terms', 0.006125299251444473), ('are made available under the', 0.006125299251444473), ('are made available under', 0.006125299251444473)]\n",
      "Topic 25: [('timeout 3s cmd', 0.011322421792299876), ('3s cmd', 0.01105047013278832), ('httplocalhostvitalsdocker exit', 0.010880062795378244), ('3000 healthcheck interval', 0.010880062795378244), ('expose 3000 healthcheck', 0.010880062795378244), ('timeout 3s cmd curl fail httplocalhostvitalsdocker exit 1', 0.010880062795378244), ('timeout 3s cmd curl', 0.010880062795378244), ('timeout 3s cmd curl fail httplocalhostvitalsdocker exit 1 cmd npm', 0.010880062795378244), ('cmd curl fail httplocalhostvitalsdocker', 0.010880062795378244), ('expose 3000 healthcheck interval', 0.010880062795378244)]\n",
      "Topic 26: [('docker image', 0.0070072464891523), ('of the', 0.006517763007860663), ('echo info', 0.005737277605708641), ('then echo', 0.005365407104388134), ('identifier of', 0.005089844679985378), ('identifier of the', 0.005089844679985378), ('daos client', 0.004870537371314106), ('to use', 0.004680951906815116), ('z it then echo error docker build argument it is', 0.004649330565138256), ('echo error docker build', 0.004649330565138256)]\n",
      "Topic 27: [('onbuild user', 0.004026479027229658), ('run aptget', 0.0036435554120037277), ('r user', 0.003582260648088725), ('onbuild run', 0.0033822560655131823), ('run make', 0.0033754009939680517), ('run npm install', 0.003345304390627067), ('run npm', 0.0032621087378656346), ('npm install', 0.003216343929973349), ('nghttp 2ver', 0.003128982654585606), ('run chmod', 0.0031250213833611327)]\n",
      "Topic 28: [('run mvn', 0.010054564976839488), ('from maven', 0.008508276803758145), ('from maven 3eclipsetemurin', 0.007348979911814837), ('maven 3eclipsetemurin', 0.007348979911814837), ('clean package', 0.006713516447818298), ('mvn clean package', 0.0054569778667523565), ('mvn clean', 0.005419854137051497), ('from eclipsetemurin', 0.005152812323238638), ('maven 3eclipsetemurin 11', 0.00502976784248108), ('maven 3eclipsetemurin 11 as', 0.00502976784248108)]\n",
      "Topic 29: [('run npm', 0.012217758501434145), ('run apk', 0.010959909739417819), ('run apk update apk', 0.01013777430847519), ('apk update apk', 0.010096710413428064), ('update apk', 0.010056687969710936), ('apk add', 0.00971857263965118), ('from node', 0.00939824059898729), ('run apk update', 0.009364216952713016), ('apk update', 0.00919530638700351), ('npm run', 0.007702134232695516)]\n",
      "Topic 30: [('aptget install', 0.00570071556143448), ('install y', 0.004609382670604985), ('aptget install y', 0.004218152125791263), ('run aptget', 0.004142076303845994), ('aptget update', 0.003955668817999763), ('r default 0', 0.0032368835344477975), ('r default', 0.0032368835344477975), ('chown r default', 0.0032368835344477975), ('chown r default 0', 0.0032368835344477975), ('default 0', 0.0032368835344477975)]\n",
      "Topic 31: [('run npm', 0.01427632613792068), ('run npm install', 0.013372544551125161), ('copy frombuildenv', 0.013325052684867758), ('npm install', 0.01315603791208358), ('mkdir p optmymusik workdir optmymusik', 0.009937315803780976), ('run mkdir p optmymusik workdir', 0.009937315803780976), ('node 813slim', 0.009937315803780976), ('run mkdir p optmymusik workdir optmymusik', 0.009937315803780976), ('mkdir p optmymusik workdir', 0.009937315803780976), ('mkdir p optmymusik', 0.009937315803780976)]\n",
      "Topic 32: [('the license', 0.01299485145223387), ('under the', 0.007236648293977694), ('license you', 0.005425324320702657), ('under the license', 0.005425324320702657), ('license you may', 0.005425324320702657), ('the license you', 0.005425324320702657), ('the license you may', 0.005425324320702657), ('you may', 0.005425324320702657), ('see the', 0.0038250445641945055), ('this file', 0.0036650492387793002)]\n",
      "Topic 33: [('rm rf', 0.0033256028470324724), ('install yes', 0.0028170888241285273), ('conda install', 0.002541872891340446), ('mamba install', 0.002526769870373628), ('mamba install yes', 0.002526769870373628), ('fixpermissions homenbuser', 0.00243918584424271), ('user nbuid', 0.00243918584424271), ('user root', 0.0023283309182539846), ('fixpermissions condadir', 0.0022616635981791947), ('jupyter development team distributed under the terms of the modified', 0.0022616635981791947)]\n",
      "Topic 34: [('run apk nocache add curl', 0.02078416587747355), ('nocache add curl', 0.020651321147638544), ('apk nocache add curl', 0.020651321147638544), ('add curl', 0.020284953915083455), ('apk nocache add curl copy', 0.02018344840066289), ('nocache add curl copy', 0.02018344840066289), ('run apk nocache add curl copy', 0.02018344840066289), ('add curl copy', 0.020015168002874943), ('curl copy', 0.019176226779950078), ('nocache add', 0.018261171906505252)]\n",
      "Topic 35: [('upstreamrepo arg upstreamtag from', 0.02913021734009007), ('arg upstreamtag from', 0.02913021734009007), ('arg upstreamrepo arg upstreamtag from', 0.02913021734009007), ('upstreamtag from', 0.02913021734009007), ('upstreamrepo arg upstreamtag', 0.028655604976299865), ('upstreamrepo arg', 0.028655604976299865), ('arg upstreamrepo arg upstreamtag', 0.028655604976299865), ('arg upstreamrepo arg', 0.028655604976299865), ('arg upstreamtag', 0.028655604976299865), ('arg upstreamrepo', 0.028655604976299865)]\n",
      "Topic 36: [('entrypoint java', 0.011964325755529442), ('copy frombuilder', 0.010270158200192581), ('from adoptopenjdkopenjdk 11jre', 0.009773450562313895), ('adoptopenjdkopenjdk 11jre', 0.009773450562313895), ('adoptopenjdkopenjdk 11jre 110810alpine', 0.008810292506581587), ('11jre 110810alpine', 0.008810292506581587), ('from adoptopenjdkopenjdk 11jre 110810alpine', 0.008810292506581587), ('from adoptopenjdkopenjdk', 0.007825901137714676), ('workdir application', 0.007762864769485727), ('64v 8 from platformarch', 0.006162258898248575)]\n",
      "Topic 37: [('app copy', 0.03404487524858958), ('optarthas workdir app copy', 0.030893859972018867), ('fromhengyunabcarthaslatest optarthas optarthas workdir', 0.030893859972018867), ('startsh app expose 8080 cmd appstartsh', 0.030893859972018867), ('copy startsh app expose 8080 cmd', 0.030893859972018867), ('copy startsh app expose 8080', 0.030893859972018867), ('copy startsh app expose', 0.030893859972018867), ('copy startsh app', 0.030893859972018867), ('copy fromhengyunabcarthaslatest optarthas optarthas workdir app copy', 0.030893859972018867), ('startsh app expose 8080 cmd', 0.030893859972018867)]\n",
      "Topic 38: [('run aptget', 0.013947117339630829), ('mkdir app add app', 0.013486292362717204), ('run mkdir app add app', 0.013486292362717204), ('mkdir app add', 0.013286782463799282), ('run mkdir app add', 0.013286782463799282), ('install y', 0.01308405130829541), ('app add app', 0.012799525863498012), ('aptget install y', 0.011783460549898615), ('add app', 0.011697916118488064), ('mkdir app', 0.011625872631657558)]\n",
      "Topic 39: [('the license', 0.01829752126669336), ('under the', 0.010189629834966275), ('license you', 0.007639178293161684), ('you may', 0.007639178293161684), ('the license you may', 0.007639178293161684), ('the license you', 0.007639178293161684), ('under the license', 0.007639178293161684), ('license you may', 0.007639178293161684), ('the apache', 0.004595403706644069), ('as is', 0.004557198139058474)]\n",
      "Topic 40: [('entrypoint sh c cmd', 0.02763766681577671), ('sh c cmd', 0.02763766681577671), ('8jrealpine workdir', 0.02763766681577671), ('c cmd', 0.02763766681577671), ('entrypoint sh', 0.02730487570490324), ('from openjdk', 0.027084154739253862), ('entrypoint sh c', 0.025742981354179992), ('from openjdk 8jrealpine', 0.025345917104063084), ('sh c cmd java jar', 0.025212539438656333), ('openjdk 8jrealpine workdir app', 0.025212539438656333)]\n",
      "Topic 41: [('run dotnet', 0.00969174577893065), ('workdir app', 0.006285961475488327), ('60 as', 0.006039785475896651), ('release o', 0.005502782944906307), ('c release o', 0.005502782944906307), ('c release', 0.005461168352689344), ('build your images for faster debugging from mcrmicrosoftcomdotnetaspnet', 0.004620683301209467), ('to build your images for faster debugging from mcrmicrosoftcomdotnetaspnet', 0.004620683301209467), ('faster debugging from mcrmicrosoftcomdotnetaspnet', 0.004620683301209467), ('images for faster debugging from mcrmicrosoftcomdotnetaspnet', 0.004620683301209467)]\n",
      "Topic 42: [('run dotnet', 0.016869703237731588), ('run dotnet restore', 0.014153897186257817), ('dotnet restore', 0.01401195115993162), ('workdir classifiedadsmonolith copy', 0.0116707685614695), ('workdir classifiedadsmonolith', 0.0116707685614695), ('classifiedadsmonolith copy', 0.0116707685614695), ('copy classifiedadsdomaincsproj classifiedadsdomain copy', 0.009973518727694601), ('copy csproj and restore as distinct layers copy classifiedadsapplicationcsproj classifiedadsapplication', 0.009973518727694601), ('classifiedadsinfrastructurecsproj classifiedadsinfrastructure', 0.009973518727694601), ('copy classifiedadsdomaincsproj classifiedadsdomain', 0.009973518727694601)]\n",
      "Topic 43: [('copy frombuilder', 0.035762940645905315), ('from geoservercloudgscloudbasejretag', 0.016373130449627356), ('copy frombuilder snapshotdependencies copy', 0.015355800006716627), ('arg taglatest from geoservercloudgscloudbasejretag as builder', 0.015355800006716627), ('copy frombuilder dependencies copy', 0.015355800006716627), ('taglatest from geoservercloudgscloudbasejretag', 0.015355800006716627), ('snapshotdependencies copy frombuilder springbootloader', 0.015355800006716627), ('copy frombuilder dependencies copy frombuilder', 0.015355800006716627), ('arg taglatest from geoservercloudgscloudbasejretag as builder arg', 0.015355800006716627), ('copy frombuilder dependencies', 0.015355800006716627)]\n",
      "Topic 44: [('run npm install', 0.045715443000358104), ('npm install', 0.04395312666082469), ('run npm', 0.04261903244114556), ('12 from', 0.03836770235362677), ('install copy run npm install nopackagelock nosave', 0.03836770235362677), ('copy package run npm install copy run npm', 0.03836770235362677), ('copy package run npm install copy', 0.03836770235362677), ('copy package run npm install', 0.03836770235362677), ('from nodenodeversionalpine workdir app copy package run npm install copy', 0.03836770235362677), ('copy package run npm install copy run', 0.03836770235362677)]\n",
      "Topic 45: [('run poetry', 0.006969823908142581), ('install poetry', 0.006445715340800228), ('poetry install', 0.006238013123237396), ('poetry config', 0.005914856477948628), ('run poetry config', 0.005641078967929583), ('run poetry config virtualenvscreate', 0.005641078967929583), ('run poetry config virtualenvscreate false', 0.005641078967929583), ('poetry config virtualenvscreate false', 0.005565311468874749), ('config virtualenvscreate false', 0.005565311468874749), ('virtualenvscreate false', 0.005565311468874749)]\n",
      "Topic 46: [('sqlpackage actionpublish targetservernamelocalhost targetusersa targetpasswordsapassword', 0.025548115258352752), ('targetservernamelocalhost targetusersa targetpasswordsapassword', 0.025548115258352752), ('actionpublish targetservernamelocalhost', 0.025548115258352752), ('actionpublish targetservernamelocalhost targetusersa', 0.025548115258352752), ('actionpublish targetservernamelocalhost targetusersa targetpasswordsapassword', 0.025548115258352752), ('sqlpackage actionpublish targetservernamelocalhost targetusersa', 0.025548115258352752), ('targetusersa targetpasswordsapassword', 0.025548115258352752), ('targetservernamelocalhost targetusersa', 0.025548115258352752), ('sqlpackage actionpublish targetservernamelocalhost', 0.025548115258352752), ('sqlpackage actionpublish', 0.025548115258352752)]\n",
      "Topic 47: [('entrypointsh entrypoint', 0.0213635722594385), ('copy entrypointsh', 0.018591979841832203), ('entrypoint entrypointsh from', 0.018117696343589014), ('entrypointsh from', 0.01695594201877129), ('entrypointsh entrypoint entrypointsh from', 0.016659462194263362), ('entrypointsh entrypoint entrypointsh', 0.015627844326739193), ('entrypoint entrypointsh', 0.014954729468526216), ('copy entrypointsh entrypointsh', 0.01494845546245199), ('entrypointsh entrypointsh', 0.014441102512929429), ('shell binash eo pipefail c run apk update', 0.013982725645480401)]\n",
      "Topic 48: [('run dotnet', 0.024713138397419607), ('run dotnet restore', 0.022222771834140946), ('dotnet restore', 0.021999905007125082), ('classifiedadsmicroservices copy', 0.017103356181721867), ('workdir classifiedadsmicroservices copy', 0.017103356181721867), ('workdir classifiedadsmicroservices', 0.017103356181721867), ('copy commonclassifiedadsinfrastructurecsproj commonclassifiedadsinfrastructure run dotnet restore commonclassifiedadsapplicationclassifiedadsapplicationcsproj run', 0.00940423866755478), ('build runtime image from mcrmicrosoftcomdotnetaspnet 80 workdir classifiedadsmicroservices', 0.00940423866755478), ('runtime image from mcrmicrosoftcomdotnetaspnet 80 workdir classifiedadsmicroservices copy', 0.00940423866755478), ('runtime image from mcrmicrosoftcomdotnetaspnet 80 workdir classifiedadsmicroservices', 0.00940423866755478)]\n",
      "Topic 49: [('run bash c', 0.04884506322186603), ('run bash', 0.04730411393891832), ('bash c', 0.04539239077091291), ('eclipsetemurin 11 volume tmp add jar appjar', 0.03092188409563542), ('eclipsetemurin 11 volume tmp add', 0.03092188409563542), ('volume tmp add jar', 0.03092188409563542), ('volume tmp add jar appjar', 0.03092188409563542), ('appjar run bash c', 0.03092188409563542), ('javadspringprofilesactivedockerjarappjar from', 0.03092188409563542), ('11 volume tmp', 0.03092188409563542)]\n",
      "Topic 50: [('from python', 0.018463530308990696), ('python 3alpine', 0.016410813504796746), ('from python 3alpine', 0.016410813504796746), ('3 managepy', 0.01610413294334812), ('python 3 managepy', 0.01610413294334812), ('run pip', 0.01586614098726608), ('r requirementstxt', 0.015258792295524444), ('pip install', 0.01483733109217236), ('install r requirementstxt', 0.01442092469461948), ('run pip install', 0.013713946002038822)]\n",
      "Topic 51: [('working directory', 0.016917027389984966), ('working directory workdir', 0.014809164171425318), ('directory workdir', 0.013217908812303057), ('from node', 0.012846296403161197), ('npm install', 0.012231853430656222), ('image from node 1120alpine set the working directory workdir', 0.01216264306399051), ('image from node 1120alpine set', 0.01216264306399051), ('image from node 1120alpine set the', 0.01216264306399051), ('image from node 1120alpine set the working', 0.01216264306399051), ('image from node 1120alpine set the working directory', 0.01216264306399051)]\n",
      "Topic 52: [('qq y', 0.01040953124915406), ('aptget update qq aptget', 0.009647101230840286), ('update qq aptget', 0.009647101230840286), ('qq aptget', 0.009612512240797835), ('aptget update qq', 0.009303722746598042), ('update qq', 0.009303722746598042), ('debconfsetselections echo', 0.008752344448981117), ('dockerentrypointsh run', 0.007866231939029775), ('httpdownloadbareosorgbareosrelease 20xubuntu', 0.0069891730401652665), ('install qq y noinstallrecommends', 0.006480505896517623)]\n",
      "Topic 53: [('copy chownaetheraether', 0.00501011454620569), ('pip install q', 0.004736546365665577), ('install q', 0.004736546365665577), ('mkdir p', 0.004070961187952125), ('install y', 0.003862547380396076), ('aptget install y', 0.0038196386952001862), ('aptget install', 0.003797147907303266), ('sed e', 0.00359722996798224), ('pip install', 0.0031592198617866997), ('run mkdir p', 0.002989033170975749)]\n",
      "Topic 54: [('copy caddyfile', 0.020992651782915463), ('from caddy 2alpine', 0.016313419952839494), ('from caddy', 0.016313419952839494), ('from caddy 2alpine copy', 0.016313419952839494), ('copy caddyfile etccaddycaddyfile', 0.016313419952839494), ('caddy 2alpine copy', 0.016313419952839494), ('caddy 2alpine', 0.016313419952839494), ('caddyfile etccaddycaddyfile', 0.016313419952839494), ('2alpine copy', 0.016313419952839494), ('2alpine copy caddyfile etccaddycaddyfile copy dist usrsharecaddydist from caddy 2alpine', 0.01389500765470726)]\n"
     ]
    }
   ],
   "source": [
    "vectorizer_model = CountVectorizer(ngram_range=(2, 10),tokenizer=custom_tokenizer)\n",
    "topic_model = BERTopic(vectorizer_model=vectorizer_model)\n",
    "#topic_model = BERTopic(language=\"english\", calculate_probabilities=True, verbose=True)\n",
    "topics, probabilities = topic_model.fit_transform(dockerfile_texts)\n",
    "for topic_id, topic in topic_model.get_topics().items():\n",
    "    print(f\"Topic {topic_id}: {topic}\")"
   ]
  },
  {
   "cell_type": "markdown",
   "id": "209cdf03-8aa1-4683-b142-a7f6520d11a8",
   "metadata": {},
   "source": [
    "## store topics in knowlage base "
   ]
  },
  {
   "cell_type": "code",
   "execution_count": 71,
   "id": "c1b614dd-07e3-4c0d-948d-4b3ea9ad732c",
   "metadata": {
    "tags": []
   },
   "outputs": [],
   "source": [
    "def extract_topics_to_json(topic_model, output_file=\"Results/knowloage_base.json\"):\n",
    " \n",
    "    # Get topic information\n",
    "    topic_info = topic_model.get_topic_info()\n",
    "\n",
    "    # Get representative documents for each topic\n",
    "    representative_docs = topic_model.get_representative_docs()\n",
    "\n",
    "    # Create a dictionary to store topics\n",
    "    topics_dict = {}\n",
    "\n",
    "    for topic_id in topic_info[\"Topic\"].unique():\n",
    "        if topic_id == -1:  # Skip the outlier topic\n",
    "            continue\n",
    "\n",
    "        # Get keywords for the topic\n",
    "        keywords = [word for word, _ in topic_model.get_topic(topic_id)]\n",
    "\n",
    "        # Get representative documents for the topic\n",
    "        docs = representative_docs[topic_id]\n",
    "\n",
    "        # Store topic information in the dictionary\n",
    "        topics_dict[str(topic_id)] = {\n",
    "            \"keywords\": keywords,\n",
    "            \"representative_documents\": docs        }\n",
    "\n",
    "    # Save the dictionary to a JSON file\n",
    "    with open(output_file, \"w\") as f:\n",
    "        json.dump(topics_dict, f, indent=4)\n",
    "\n",
    "    print(f\"Topics saved to {output_file}\")\n",
    "    "
   ]
  },
  {
   "cell_type": "code",
   "execution_count": 72,
   "id": "7c78e022-8124-4450-8340-9abedbf3b2b0",
   "metadata": {
    "tags": []
   },
   "outputs": [
    {
     "name": "stdout",
     "output_type": "stream",
     "text": [
      "Topics saved to knowloage_base.json\n"
     ]
    }
   ],
   "source": [
    "# Extract topics and save to JSON\n",
    "extract_topics_to_json(topic_model)    "
   ]
  }
 ],
 "metadata": {
  "kernelspec": {
   "display_name": "Python 3 (ipykernel)",
   "language": "python",
   "name": "python3"
  },
  "language_info": {
   "codemirror_mode": {
    "name": "ipython",
    "version": 3
   },
   "file_extension": ".py",
   "mimetype": "text/x-python",
   "name": "python",
   "nbconvert_exporter": "python",
   "pygments_lexer": "ipython3",
   "version": "3.12.7"
  }
 },
 "nbformat": 4,
 "nbformat_minor": 5
}
