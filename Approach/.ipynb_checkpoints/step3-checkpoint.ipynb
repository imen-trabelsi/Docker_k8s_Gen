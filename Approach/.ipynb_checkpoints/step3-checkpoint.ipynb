{
 "cells": [
  {
   "cell_type": "markdown",
   "id": "bd16ae1f-46ac-4cb7-8b09-7217c35505ff",
   "metadata": {},
   "source": [
    "## K8s manifest generation"
   ]
  },
  {
   "cell_type": "code",
   "execution_count": 430,
   "id": "a9997d81-00d1-4bfe-b2b0-ad4e13a3875a",
   "metadata": {
    "tags": []
   },
   "outputs": [],
   "source": [
    "import openai\n",
    "import json\n",
    "import os\n",
    "import yaml"
   ]
  },
  {
   "cell_type": "code",
   "execution_count": 432,
   "id": "4dd849ec-7dc6-4a80-8cce-cf678b3daab8",
   "metadata": {
    "tags": []
   },
   "outputs": [],
   "source": [
    "client = openai.OpenAI(api_key='')\n",
    "\n",
    "prompt_deployment_file_path = \"files/k8s_deployment_prompt.txt\"         # Path to Deployment Prompt text file\n",
    "prompt_service_file_path = \"files/k8s_service_prompt.txt\"         # Path to SerivcePrompt text file"
   ]
  },
  {
   "cell_type": "markdown",
   "id": "fe3e50b6-f961-4336-ba58-4245410fcb32",
   "metadata": {},
   "source": [
    "## Step 3.1"
   ]
  },
  {
   "cell_type": "code",
   "execution_count": 60,
   "id": "2cf2f0ac-e3f5-44b3-9ba6-8b120024e288",
   "metadata": {},
   "outputs": [],
   "source": [
    "def yaml_to_json(yaml_file,root):\n",
    "    \"\"\"\n",
    "    Converts a YAML file to a JSON file.\n",
    "\n",
    "    :param yaml_file: Path to the input YAML file.\n",
    "    :param json_file: Path to the output JSON file.\n",
    "    \"\"\"\n",
    "    try:\n",
    "        # Read the YAML file\n",
    "        with open(yaml_file, 'r') as yaml_input:\n",
    "            yaml_data = yaml.safe_load(yaml_input)  # Load YAML data\n",
    "        json_file=root+\"/k8s_data.json\"\n",
    "        # Write the JSON file\n",
    "        with open(json_file, 'w') as json_output:\n",
    "            json.dump(yaml_data, json_output, indent=2)  # Convert to JSON and write to file\n",
    "\n",
    "        print(f\"Successfully converted {yaml_file} to {json_file}\")\n",
    "\n",
    "    except Exception as e:\n",
    "        print(f\"An error occurred: {e}\")"
   ]
  },
  {
   "cell_type": "code",
   "execution_count": 62,
   "id": "9150faad-e1e6-43da-9a84-94fd0aa9a19c",
   "metadata": {},
   "outputs": [],
   "source": [
    "def process_k8s_in_directory(dir_path):\n",
    "    i=0\n",
    "    for root, dirs, files in os.walk(dir_path):\n",
    "        for file in files:\n",
    "            if file.lower() == \"values.yaml\":\n",
    "                i=i+1\n",
    "                value_path = os.path.join(root, file)\n",
    "                yaml_to_json(value_path,root)"
   ]
  },
  {
   "cell_type": "code",
   "execution_count": 58,
   "id": "0dc77e7f-092c-4674-ac85-5cdd46efa680",
   "metadata": {},
   "outputs": [
    {
     "name": "stdout",
     "output_type": "stream",
     "text": [
      "projects_50/hyrax\n",
      "Successfully converted projects_50/hyrax/values.yaml to projects_50/hyrax/k8s_data.json\n",
      "######## 1\n",
      "projects_50/noc\n",
      "Successfully converted projects_50/noc/values.yaml to projects_50/noc/k8s_data.json\n",
      "######## 2\n",
      "projects_50/spryker-demoshop\n",
      "Successfully converted projects_50/spryker-demoshop/values.yaml to projects_50/spryker-demoshop/k8s_data.json\n",
      "######## 3\n",
      "projects_50/jx-docs\n",
      "Successfully converted projects_50/jx-docs/values.yaml to projects_50/jx-docs/k8s_data.json\n",
      "######## 4\n",
      "projects_50/openstates-scrapers\n",
      "Successfully converted projects_50/openstates-scrapers/values.yaml to projects_50/openstates-scrapers/k8s_data.json\n",
      "######## 5\n",
      "projects_50/ccpay-payment-app\n",
      "Successfully converted projects_50/ccpay-payment-app/values.yaml to projects_50/ccpay-payment-app/k8s_data.json\n",
      "######## 6\n",
      "projects_50/ccpay-payment-app/docker_database\n",
      "Successfully converted projects_50/ccpay-payment-app/docker_database/values.yaml to projects_50/ccpay-payment-app/docker_database/k8s_data.json\n",
      "######## 7\n"
     ]
    }
   ],
   "source": [
    "process_k8s_in_directory(\"\")"
   ]
  },
  {
   "cell_type": "markdown",
   "id": "cf46cfff-2b4f-4e52-a60b-4f41e7100376",
   "metadata": {},
   "source": [
    "## Step 3.2"
   ]
  },
  {
   "cell_type": "code",
   "execution_count": 424,
   "id": "3faf4f69-0537-45b6-8fd7-605619391476",
   "metadata": {},
   "outputs": [],
   "source": [
    "# Function to load extracted data from JSON file\n",
    "def load_extracted_data(json_file_path):\n",
    "    with open(json_file_path, \"r\") as file:\n",
    "        return json.load(file)"
   ]
  },
  {
   "cell_type": "code",
   "execution_count": 426,
   "id": "8a9afee7-f38e-407c-a573-af5ea128ef9c",
   "metadata": {
    "tags": []
   },
   "outputs": [],
   "source": [
    "# Function to load the prompt template from a text file\n",
    "def load_prompt_template(prompt_file_path):\n",
    "    with open(prompt_file_path, \"r\") as file:\n",
    "        return file.read()"
   ]
  },
  {
   "cell_type": "code",
   "execution_count": 428,
   "id": "44976a39-dd42-4a65-9200-9b3a6d3bc3a8",
   "metadata": {
    "tags": []
   },
   "outputs": [],
   "source": [
    "# Function to safely join list values into a string\n",
    "def safe_join(value):\n",
    "    \"\"\"Returns a safely joined string if the value is a list, otherwise returns an empty string.\"\"\"\n",
    "    if isinstance(value, list):  # Ensure it's a list before joining\n",
    "        return \", \".join(map(str, value))\n",
    "    return \"\""
   ]
  },
  {
   "cell_type": "code",
   "execution_count": 434,
   "id": "1051e97d-3379-4571-9f1a-5c4a7367dd90",
   "metadata": {
    "tags": []
   },
   "outputs": [],
   "source": [
    "import json\n",
    "\n",
    "def format_prompt(prompt_template, data):\n",
    "    \"\"\"Formats the prompt template with the provided data.\"\"\"\n",
    "    def safe_get(dictionary, key, default=None):\n",
    "        \"\"\"Safely retrieves a value from a dictionary with a default fallback.\"\"\"\n",
    "        if not isinstance(dictionary, dict):\n",
    "            return default\n",
    "        return dictionary.get(key, default)\n",
    "\n",
    "\n",
    "    # Format all fields with safe defaults\n",
    "    formatted_data = {\n",
    "        # Microservice Name (fallback to 'unnamed-microservice' if not provided)\n",
    "        'microservice_name': safe_get(data, 'nameOverride', safe_get(data, 'fullnameOverride', 'unnamed-microservice')),\n",
    "\n",
    "        # Image (default empty values if missing)\n",
    "        'image_repository': safe_get(data.get('image', {}), 'repository', ''),\n",
    "        'image_tag': safe_get(data.get('image', {}), 'tag', ''),\n",
    "        'image_pull_policy': safe_get(data.get('image', {}), 'pullPolicy', 'IfNotPresent'),\n",
    "\n",
    "        # Deployment\n",
    "        'replica_count': safe_get(data, 'replicaCount', 1),\n",
    "        'pod_annotations': json.dumps(safe_get(data, 'podAnnotations', {})),\n",
    "        'pod_labels': json.dumps(safe_get(data, 'podLabels', {})),\n",
    "        'pod_security_context': json.dumps(safe_get(data, 'podSecurityContext', {})),\n",
    "        'security_context': json.dumps(safe_get(data, 'securityContext', {})),\n",
    "        'node_selector': json.dumps(safe_get(data, 'nodeSelector', {})),\n",
    "        'tolerations': json.dumps(safe_get(data, 'tolerations', [])),\n",
    "        'affinity': json.dumps(safe_get(data, 'affinity', {})),\n",
    "\n",
    "        # Service\n",
    "        'service_type': safe_get(data.get('service', {}), 'type', 'ClusterIP'),\n",
    "        'service_port': safe_get(data.get('service', {}), 'port', 80),\n",
    "        'service_annotations': json.dumps(safe_get(data.get('service', {}), 'annotations', {})),\n",
    "\n",
    "        # Ingress\n",
    "        'ingress_enabled': safe_get(data.get('ingress', {}), 'enabled', False),\n",
    "        'ingress_class_name': safe_get(data.get('ingress', {}), 'className', ''),\n",
    "        'ingress_annotations': json.dumps(safe_get(data.get('ingress', {}), 'annotations', {})),\n",
    "        'ingress_hosts': json.dumps(safe_get(data.get('ingress', {}), 'hosts', [])),\n",
    "        'ingress_tls': json.dumps(safe_get(data.get('ingress', {}), 'tls', [])),\n",
    "\n",
    "        # Resources\n",
    "        'resource_requests': json.dumps(safe_get(data.get('resources', {}), 'requests', {})),\n",
    "        'resource_limits': json.dumps(safe_get(data.get('resources', {}), 'limits', {})),\n",
    "\n",
    "        # Autoscaling\n",
    "        'autoscaling_enabled': safe_get(data.get('autoscaling', {}), 'enabled', False),\n",
    "        'autoscaling_min_replicas': safe_get(data.get('autoscaling', {}), 'minReplicas', 1),\n",
    "        'autoscaling_max_replicas': safe_get(data.get('autoscaling', {}), 'maxReplicas', 10),\n",
    "        'autoscaling_target_cpu': safe_get(data.get('autoscaling', {}), 'targetCPUUtilizationPercentage', 80),\n",
    "\n",
    "        # Service Account\n",
    "        'service_account_create': safe_get(data.get('serviceAccount', {}), 'create', True),\n",
    "        'service_account_name': safe_get(data.get('serviceAccount', {}), 'name', ''),\n",
    "        'service_account_automount': safe_get(data.get('serviceAccount', {}), 'automount', True),\n",
    "        'service_account_annotations': json.dumps(safe_get(data.get('serviceAccount', {}), 'annotations', {})),\n",
    "\n",
    "        # Volumes and Mounts\n",
    "        'volumes': json.dumps(safe_get(data, 'volumes', [])),\n",
    "        'volume_mounts': json.dumps(safe_get(data, 'volumeMounts', [])),\n",
    "\n",
    "        # Probes\n",
    "        'liveness_probe': json.dumps(safe_get(data, 'livenessProbe', {})),\n",
    "        'readiness_probe': json.dumps(safe_get(data, 'readinessProbe', {})),\n",
    "\n",
    "        # Custom Scripts and Ports\n",
    "        'custom_scripts': json.dumps(safe_get(data, 'customScripts', {})),\n",
    "        'exposed_ports': json.dumps(safe_get(data, 'exposed_ports', []))\n",
    "    }\n",
    "\n",
    "  \n",
    "\n",
    "    # Verify that the prompt_template uses named placeholders\n",
    "    try:\n",
    "        # Attempt to format the template with the data\n",
    "        formatted_prompt = prompt_template.format(**formatted_data)\n",
    "        return formatted_prompt\n",
    "    except KeyError as e:\n",
    "        # Handle missing placeholders in the template\n",
    "        print(f\"Error: The prompt_template is missing a placeholder for key: {e}\")\n",
    "        raise\n",
    "    except IndexError as e:\n",
    "        # Handle positional placeholders in the template\n",
    "        print(\"Error: The prompt_template contains positional placeholders (e.g., {0}). Use named placeholders instead.\")\n",
    "        raise"
   ]
  },
  {
   "cell_type": "code",
   "execution_count": 436,
   "id": "90f2ae09-1411-4faf-996c-21747c31429f",
   "metadata": {
    "tags": []
   },
   "outputs": [],
   "source": [
    "def generate_file(prompt):\n",
    "    response = client.chat.completions.create(\n",
    "        model=\"gpt-4\",\n",
    "        messages=[{\"role\": \"user\", \"content\": prompt}]\n",
    "    )\n",
    "    return response.choices[0].message.content"
   ]
  },
  {
   "cell_type": "code",
   "execution_count": 404,
   "id": "3ce7dfcd-c30b-495e-9f1b-cc1aaf5c8d5a",
   "metadata": {
    "tags": []
   },
   "outputs": [],
   "source": [
    "def save_file(content, file_path):\n",
    "    with open(file_path, \"w\") as file:\n",
    "        file.write(extract_file(content))\n",
    "    print(f\"Dockerfile saved successfully: {file_path}\")"
   ]
  },
  {
   "cell_type": "code",
   "execution_count": 406,
   "id": "f533e3e7-a565-4aeb-9d19-19644ef325f5",
   "metadata": {},
   "outputs": [],
   "source": [
    "def extract_file(text):\n",
    "    \"\"\"\n",
    "    Extracts only the Dockerfile content from a mixed text input.\n",
    "    \n",
    "    Args:\n",
    "        text (str): The input text containing Dockerfile and extra notes.\n",
    "    \n",
    "    Returns:\n",
    "        str: The extracted Dockerfile content.\n",
    "    \"\"\"\n",
    "    # Regular expression to match everything between ```Dockerfile and ```\n",
    "    match = re.search(r\"```yaml\\n(.*?)```\", text, re.DOTALL)\n",
    "    \n",
    "    if match:\n",
    "        return match.group(1).strip()  # Extract only the Dockerfile content\n",
    "    else:\n",
    "        print(\"No Deployment content found.\")\n",
    "        return text"
   ]
  },
  {
   "cell_type": "markdown",
   "id": "bdb18d35-0d46-4847-8b3f-62f36f028511",
   "metadata": {},
   "source": [
    "## Generate Config Files"
   ]
  },
  {
   "cell_type": "code",
   "execution_count": 398,
   "id": "d4d1dd82-22c1-4176-adc9-7496f17b98cb",
   "metadata": {},
   "outputs": [],
   "source": [
    "# Main function to generate K8s manifests for all projects and microservices\n",
    "def generate_k8s_projects(projects_root_dir):\n",
    "    # Load both prompt templates\n",
    "    prompt_template_deploy= load_prompt_template(prompt_deployment_file_path)\n",
    "    prompt_template_service = load_prompt_template(prompt_service_file_path)\n",
    "    # Traverse all subdirectories under /projects\n",
    "    for root, dirs, files in os.walk(projects_root_dir):\n",
    "        # Check if the current directory contains both retrieved_data.json and docker_data.json\n",
    "        k8s_data_path = os.path.join(root, \"k8s_data.json\")\n",
    "        if os.path.exists(k8s_data_path) :\n",
    "            # Load retrieved_data and docker_data\n",
    "            k8s_data = load_extracted_data(k8s_data_path)\n",
    "\n",
    "            prompt_deployment = format_prompt(prompt_template_deploy, k8s_data)\n",
    "            k8s_deply_file = generate_file(prompt_deployment)\n",
    "            save_file(k8s_deply_file, os.path.join(root, \"deployment_MiDKo.yaml\"))\n",
    "            \n",
    "            prompt_service = format_prompt(prompt_template_service, k8s_data)\n",
    "            k8s_service_file =  generate_file(prompt_service)\n",
    "            save_file(k8s_service_file, os.path.join(root, \"service_MiDKo.yaml\"))\n"
   ]
  },
  {
   "cell_type": "code",
   "execution_count": 400,
   "id": "df1e46d5-aef7-4370-8f22-372dc47d68f8",
   "metadata": {},
   "outputs": [
    {
     "name": "stdout",
     "output_type": "stream",
     "text": [
      "Dockerfile saved successfully: projects_50/hyrax/deployment_MiDKo.yaml\n",
      "Dockerfile saved successfully: projects_50/hyrax/service_MiDKo.yaml\n",
      "Dockerfile saved successfully: projects_50/noc/deployment_MiDKo.yaml\n",
      "Dockerfile saved successfully: projects_50/noc/service_MiDKo.yaml\n",
      "Dockerfile saved successfully: projects_50/spryker-demoshop/deployment_MiDKo.yaml\n",
      "Dockerfile saved successfully: projects_50/spryker-demoshop/service_MiDKo.yaml\n",
      "Dockerfile saved successfully: projects_50/jx-docs/deployment_MiDKo.yaml\n",
      "Dockerfile saved successfully: projects_50/jx-docs/service_MiDKo.yaml\n",
      "Dockerfile saved successfully: projects_50/openstates-scrapers/deployment_MiDKo.yaml\n",
      "Dockerfile saved successfully: projects_50/openstates-scrapers/service_MiDKo.yaml\n",
      "Dockerfile saved successfully: projects_50/ccpay-payment-app/deployment_MiDKo.yaml\n",
      "Dockerfile saved successfully: projects_50/ccpay-payment-app/service_MiDKo.yaml\n",
      "Dockerfile saved successfully: projects_50/ccpay-payment-app/docker_database/deployment_MiDKo.yaml\n",
      "Dockerfile saved successfully: projects_50/ccpay-payment-app/docker_database/service_MiDKo.yaml\n"
     ]
    }
   ],
   "source": [
    "generate_k8s_projects()"
   ]
  },
  {
   "cell_type": "code",
   "execution_count": null,
   "id": "69cbacc5-73a9-4b9e-ab96-325023b3ce6f",
   "metadata": {},
   "outputs": [],
   "source": []
  }
 ],
 "metadata": {
  "kernelspec": {
   "display_name": "Python 3 (ipykernel)",
   "language": "python",
   "name": "python3"
  },
  "language_info": {
   "codemirror_mode": {
    "name": "ipython",
    "version": 3
   },
   "file_extension": ".py",
   "mimetype": "text/x-python",
   "name": "python",
   "nbconvert_exporter": "python",
   "pygments_lexer": "ipython3",
   "version": "3.12.7"
  }
 },
 "nbformat": 4,
 "nbformat_minor": 5
}
